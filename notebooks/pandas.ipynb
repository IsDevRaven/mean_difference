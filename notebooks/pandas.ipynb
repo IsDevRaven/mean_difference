{
 "cells": [
  {
   "cell_type": "code",
   "execution_count": 20,
   "metadata": {
    "collapsed": true
   },
   "outputs": [],
   "source": [
    "import pandas as pd\n",
    "import pyodbc\n",
    "import sqlalchemy\n",
    "from time import time\n",
    "from main import odbc_connection\n",
    "from main import odbc_url_sqlalchemy"
   ]
  },
  {
   "cell_type": "code",
   "execution_count": 21,
   "outputs": [],
   "source": [
    "def time_measure(function):\n",
    "    def measure_function(*args, **kwargs):\n",
    "        start = time()\n",
    "        c = function(*args, **kwargs)\n",
    "        print(time() - start)\n",
    "        return c\n",
    "    return measure_function"
   ],
   "metadata": {
    "collapsed": false
   }
  },
  {
   "cell_type": "code",
   "execution_count": 22,
   "outputs": [],
   "source": [
    "@time_measure\n",
    "def read_sql_pandas(query: str, connection: pyodbc.Connection) -> pd.DataFrame:\n",
    "    \"\"\"\n",
    "    :param query:\n",
    "    :param connection:\n",
    "    :return: pd.Dataframe\n",
    "    \"\"\"\n",
    "\n",
    "    try:\n",
    "        df = pd.read_sql(query, connection)\n",
    "        return df\n",
    "\n",
    "    except OSError as e:\n",
    "        raise OSError(f'Error creating dataframe from database {e}')\n",
    "\n",
    "    finally:\n",
    "        connection.close()"
   ],
   "metadata": {
    "collapsed": false
   }
  },
  {
   "cell_type": "code",
   "execution_count": 23,
   "outputs": [
    {
     "name": "stderr",
     "output_type": "stream",
     "text": [
      "/var/folders/sh/f6gkgjfs5lx3pkj9hkl44vgc0000gn/T/ipykernel_28700/715247001.py:10: UserWarning: pandas only supports SQLAlchemy connectable (engine/connection) or database string URI or sqlite3 DBAPI2 connection. Other DBAPI2 objects are not tested. Please consider using SQLAlchemy.\n",
      "  df = pd.read_sql(query, connection)\n"
     ]
    },
    {
     "name": "stdout",
     "output_type": "stream",
     "text": [
      "1.047248125076294\n"
     ]
    },
    {
     "data": {
      "text/plain": "      AtypicalDate AtypicalDateCode                       AtypicalDateName  \\\n0       2000-01-01           1--ENE                       Primero de enero   \n1       2000-01-02           2--ENE                           Dos de enero   \n2       2000-01-03            LUNES           Lunes en vacaciones de enero   \n3       2000-01-04           MARTES          Martes en vacaciones de enero   \n4       2000-01-05        MIERCOLES      MiÃ©rcoles en vacaciones de enero   \n...            ...              ...                                    ...   \n18623   2050-12-27           MARTES      Martes en vacaciones de diciembre   \n18624   2050-12-28        MIERCOLES  MiÃ©rcoles en vacaciones de diciembre   \n18625   2050-12-29           JUEVES      Jueves en vacaciones de diciembre   \n18626   2050-12-30          VIERNES     Viernes en vacaciones de diciembre   \n18627   2050-12-31          31--DIC                    Fiestas fin de aÃ±o   \n\n      TypeDay      XMCreationDate  \n0        FEST 2020-02-04 18:31:22  \n1         ORD 2020-02-04 18:31:22  \n2         ORD 2020-02-04 18:31:22  \n3         ORD 2020-02-04 18:31:22  \n4         ORD 2020-02-04 18:31:22  \n...       ...                 ...  \n18623     ORD 2020-02-04 18:31:22  \n18624     ORD 2020-02-04 18:31:22  \n18625     ORD 2020-02-04 18:31:22  \n18626     ORD 2020-02-04 18:31:22  \n18627     ORD 2020-02-04 18:31:22  \n\n[18628 rows x 5 columns]",
      "text/html": "<div>\n<style scoped>\n    .dataframe tbody tr th:only-of-type {\n        vertical-align: middle;\n    }\n\n    .dataframe tbody tr th {\n        vertical-align: top;\n    }\n\n    .dataframe thead th {\n        text-align: right;\n    }\n</style>\n<table border=\"1\" class=\"dataframe\">\n  <thead>\n    <tr style=\"text-align: right;\">\n      <th></th>\n      <th>AtypicalDate</th>\n      <th>AtypicalDateCode</th>\n      <th>AtypicalDateName</th>\n      <th>TypeDay</th>\n      <th>XMCreationDate</th>\n    </tr>\n  </thead>\n  <tbody>\n    <tr>\n      <th>0</th>\n      <td>2000-01-01</td>\n      <td>1--ENE</td>\n      <td>Primero de enero</td>\n      <td>FEST</td>\n      <td>2020-02-04 18:31:22</td>\n    </tr>\n    <tr>\n      <th>1</th>\n      <td>2000-01-02</td>\n      <td>2--ENE</td>\n      <td>Dos de enero</td>\n      <td>ORD</td>\n      <td>2020-02-04 18:31:22</td>\n    </tr>\n    <tr>\n      <th>2</th>\n      <td>2000-01-03</td>\n      <td>LUNES</td>\n      <td>Lunes en vacaciones de enero</td>\n      <td>ORD</td>\n      <td>2020-02-04 18:31:22</td>\n    </tr>\n    <tr>\n      <th>3</th>\n      <td>2000-01-04</td>\n      <td>MARTES</td>\n      <td>Martes en vacaciones de enero</td>\n      <td>ORD</td>\n      <td>2020-02-04 18:31:22</td>\n    </tr>\n    <tr>\n      <th>4</th>\n      <td>2000-01-05</td>\n      <td>MIERCOLES</td>\n      <td>MiÃ©rcoles en vacaciones de enero</td>\n      <td>ORD</td>\n      <td>2020-02-04 18:31:22</td>\n    </tr>\n    <tr>\n      <th>...</th>\n      <td>...</td>\n      <td>...</td>\n      <td>...</td>\n      <td>...</td>\n      <td>...</td>\n    </tr>\n    <tr>\n      <th>18623</th>\n      <td>2050-12-27</td>\n      <td>MARTES</td>\n      <td>Martes en vacaciones de diciembre</td>\n      <td>ORD</td>\n      <td>2020-02-04 18:31:22</td>\n    </tr>\n    <tr>\n      <th>18624</th>\n      <td>2050-12-28</td>\n      <td>MIERCOLES</td>\n      <td>MiÃ©rcoles en vacaciones de diciembre</td>\n      <td>ORD</td>\n      <td>2020-02-04 18:31:22</td>\n    </tr>\n    <tr>\n      <th>18625</th>\n      <td>2050-12-29</td>\n      <td>JUEVES</td>\n      <td>Jueves en vacaciones de diciembre</td>\n      <td>ORD</td>\n      <td>2020-02-04 18:31:22</td>\n    </tr>\n    <tr>\n      <th>18626</th>\n      <td>2050-12-30</td>\n      <td>VIERNES</td>\n      <td>Viernes en vacaciones de diciembre</td>\n      <td>ORD</td>\n      <td>2020-02-04 18:31:22</td>\n    </tr>\n    <tr>\n      <th>18627</th>\n      <td>2050-12-31</td>\n      <td>31--DIC</td>\n      <td>Fiestas fin de aÃ±o</td>\n      <td>ORD</td>\n      <td>2020-02-04 18:31:22</td>\n    </tr>\n  </tbody>\n</table>\n<p>18628 rows × 5 columns</p>\n</div>"
     },
     "execution_count": 23,
     "metadata": {},
     "output_type": "execute_result"
    }
   ],
   "source": [
    "\n",
    "query_atypical_date = 'SELECT * FROM [ETLStaging].[AtypicalDate]'\n",
    "connection_db = odbc_connection()\n",
    "data_frame = read_sql_pandas(query_atypical_date, connection_db)\n",
    "\n",
    "data_frame"
   ],
   "metadata": {
    "collapsed": false
   }
  },
  {
   "cell_type": "code",
   "execution_count": 24,
   "outputs": [],
   "source": [
    "@time_measure\n",
    "def read_sql_sqlalchemy(query_str: str, url: str) -> pd.DataFrame:\n",
    "    \"\"\"\n",
    "    :param query_str:\n",
    "    :param url:\n",
    "    :return:\n",
    "    \"\"\"\n",
    "\n",
    "    try:\n",
    "        engine = sqlalchemy.create_engine(url)\n",
    "        df = pd.read_sql(query_str, engine)\n",
    "        return df\n",
    "\n",
    "    except OSError as e:\n",
    "        raise OSError(f'Error creating dataframe from database {e}')"
   ],
   "metadata": {
    "collapsed": false
   }
  },
  {
   "cell_type": "code",
   "execution_count": 25,
   "outputs": [
    {
     "name": "stdout",
     "output_type": "stream",
     "text": [
      "3.0364701747894287\n"
     ]
    }
   ],
   "source": [
    "url_db = odbc_url_sqlalchemy()\n",
    "df_alchemy = read_sql_sqlalchemy(query_atypical_date, url_db)"
   ],
   "metadata": {
    "collapsed": false
   }
  },
  {
   "cell_type": "code",
   "execution_count": 26,
   "outputs": [
    {
     "data": {
      "text/plain": "      AtypicalDate AtypicalDateCode                       AtypicalDateName  \\\n0       2000-01-01           1--ENE                       Primero de enero   \n1       2000-01-02           2--ENE                           Dos de enero   \n2       2000-01-03            LUNES           Lunes en vacaciones de enero   \n3       2000-01-04           MARTES          Martes en vacaciones de enero   \n4       2000-01-05        MIERCOLES      MiÃ©rcoles en vacaciones de enero   \n...            ...              ...                                    ...   \n18623   2050-12-27           MARTES      Martes en vacaciones de diciembre   \n18624   2050-12-28        MIERCOLES  MiÃ©rcoles en vacaciones de diciembre   \n18625   2050-12-29           JUEVES      Jueves en vacaciones de diciembre   \n18626   2050-12-30          VIERNES     Viernes en vacaciones de diciembre   \n18627   2050-12-31          31--DIC                    Fiestas fin de aÃ±o   \n\n      TypeDay      XMCreationDate  \n0        FEST 2020-02-04 18:31:22  \n1         ORD 2020-02-04 18:31:22  \n2         ORD 2020-02-04 18:31:22  \n3         ORD 2020-02-04 18:31:22  \n4         ORD 2020-02-04 18:31:22  \n...       ...                 ...  \n18623     ORD 2020-02-04 18:31:22  \n18624     ORD 2020-02-04 18:31:22  \n18625     ORD 2020-02-04 18:31:22  \n18626     ORD 2020-02-04 18:31:22  \n18627     ORD 2020-02-04 18:31:22  \n\n[18628 rows x 5 columns]",
      "text/html": "<div>\n<style scoped>\n    .dataframe tbody tr th:only-of-type {\n        vertical-align: middle;\n    }\n\n    .dataframe tbody tr th {\n        vertical-align: top;\n    }\n\n    .dataframe thead th {\n        text-align: right;\n    }\n</style>\n<table border=\"1\" class=\"dataframe\">\n  <thead>\n    <tr style=\"text-align: right;\">\n      <th></th>\n      <th>AtypicalDate</th>\n      <th>AtypicalDateCode</th>\n      <th>AtypicalDateName</th>\n      <th>TypeDay</th>\n      <th>XMCreationDate</th>\n    </tr>\n  </thead>\n  <tbody>\n    <tr>\n      <th>0</th>\n      <td>2000-01-01</td>\n      <td>1--ENE</td>\n      <td>Primero de enero</td>\n      <td>FEST</td>\n      <td>2020-02-04 18:31:22</td>\n    </tr>\n    <tr>\n      <th>1</th>\n      <td>2000-01-02</td>\n      <td>2--ENE</td>\n      <td>Dos de enero</td>\n      <td>ORD</td>\n      <td>2020-02-04 18:31:22</td>\n    </tr>\n    <tr>\n      <th>2</th>\n      <td>2000-01-03</td>\n      <td>LUNES</td>\n      <td>Lunes en vacaciones de enero</td>\n      <td>ORD</td>\n      <td>2020-02-04 18:31:22</td>\n    </tr>\n    <tr>\n      <th>3</th>\n      <td>2000-01-04</td>\n      <td>MARTES</td>\n      <td>Martes en vacaciones de enero</td>\n      <td>ORD</td>\n      <td>2020-02-04 18:31:22</td>\n    </tr>\n    <tr>\n      <th>4</th>\n      <td>2000-01-05</td>\n      <td>MIERCOLES</td>\n      <td>MiÃ©rcoles en vacaciones de enero</td>\n      <td>ORD</td>\n      <td>2020-02-04 18:31:22</td>\n    </tr>\n    <tr>\n      <th>...</th>\n      <td>...</td>\n      <td>...</td>\n      <td>...</td>\n      <td>...</td>\n      <td>...</td>\n    </tr>\n    <tr>\n      <th>18623</th>\n      <td>2050-12-27</td>\n      <td>MARTES</td>\n      <td>Martes en vacaciones de diciembre</td>\n      <td>ORD</td>\n      <td>2020-02-04 18:31:22</td>\n    </tr>\n    <tr>\n      <th>18624</th>\n      <td>2050-12-28</td>\n      <td>MIERCOLES</td>\n      <td>MiÃ©rcoles en vacaciones de diciembre</td>\n      <td>ORD</td>\n      <td>2020-02-04 18:31:22</td>\n    </tr>\n    <tr>\n      <th>18625</th>\n      <td>2050-12-29</td>\n      <td>JUEVES</td>\n      <td>Jueves en vacaciones de diciembre</td>\n      <td>ORD</td>\n      <td>2020-02-04 18:31:22</td>\n    </tr>\n    <tr>\n      <th>18626</th>\n      <td>2050-12-30</td>\n      <td>VIERNES</td>\n      <td>Viernes en vacaciones de diciembre</td>\n      <td>ORD</td>\n      <td>2020-02-04 18:31:22</td>\n    </tr>\n    <tr>\n      <th>18627</th>\n      <td>2050-12-31</td>\n      <td>31--DIC</td>\n      <td>Fiestas fin de aÃ±o</td>\n      <td>ORD</td>\n      <td>2020-02-04 18:31:22</td>\n    </tr>\n  </tbody>\n</table>\n<p>18628 rows × 5 columns</p>\n</div>"
     },
     "execution_count": 26,
     "metadata": {},
     "output_type": "execute_result"
    }
   ],
   "source": [
    "df_alchemy"
   ],
   "metadata": {
    "collapsed": false
   }
  },
  {
   "cell_type": "code",
   "execution_count": 27,
   "outputs": [],
   "source": [
    "from datetime import datetime\n",
    "\n",
    "df_calendar = df_alchemy\n",
    "\n",
    "def dias(df):\n",
    "    df['date_tmp'] = df['AtypicalDate'].apply(\n",
    "    lambda x: datetime.strptime(str(x), \"%Y-%m-%d\")\n",
    "    )\n",
    "    df['day'] = df.date_tmp.dt.day\n",
    "    df['month'] = df.date_tmp.dt.month\n",
    "    df['year'] = df.date_tmp.dt.year"
   ],
   "metadata": {
    "collapsed": false
   }
  },
  {
   "cell_type": "code",
   "execution_count": 28,
   "outputs": [
    {
     "data": {
      "text/plain": "      AtypicalDate AtypicalDateCode                       AtypicalDateName  \\\n0       2000-01-01           1--ENE                       Primero de enero   \n1       2000-01-02           2--ENE                           Dos de enero   \n2       2000-01-03            LUNES           Lunes en vacaciones de enero   \n3       2000-01-04           MARTES          Martes en vacaciones de enero   \n4       2000-01-05        MIERCOLES      MiÃ©rcoles en vacaciones de enero   \n...            ...              ...                                    ...   \n18623   2050-12-27           MARTES      Martes en vacaciones de diciembre   \n18624   2050-12-28        MIERCOLES  MiÃ©rcoles en vacaciones de diciembre   \n18625   2050-12-29           JUEVES      Jueves en vacaciones de diciembre   \n18626   2050-12-30          VIERNES     Viernes en vacaciones de diciembre   \n18627   2050-12-31          31--DIC                    Fiestas fin de aÃ±o   \n\n      TypeDay      XMCreationDate   date_tmp  day  month  year  \n0        FEST 2020-02-04 18:31:22 2000-01-01    1      1  2000  \n1         ORD 2020-02-04 18:31:22 2000-01-02    2      1  2000  \n2         ORD 2020-02-04 18:31:22 2000-01-03    3      1  2000  \n3         ORD 2020-02-04 18:31:22 2000-01-04    4      1  2000  \n4         ORD 2020-02-04 18:31:22 2000-01-05    5      1  2000  \n...       ...                 ...        ...  ...    ...   ...  \n18623     ORD 2020-02-04 18:31:22 2050-12-27   27     12  2050  \n18624     ORD 2020-02-04 18:31:22 2050-12-28   28     12  2050  \n18625     ORD 2020-02-04 18:31:22 2050-12-29   29     12  2050  \n18626     ORD 2020-02-04 18:31:22 2050-12-30   30     12  2050  \n18627     ORD 2020-02-04 18:31:22 2050-12-31   31     12  2050  \n\n[18628 rows x 9 columns]",
      "text/html": "<div>\n<style scoped>\n    .dataframe tbody tr th:only-of-type {\n        vertical-align: middle;\n    }\n\n    .dataframe tbody tr th {\n        vertical-align: top;\n    }\n\n    .dataframe thead th {\n        text-align: right;\n    }\n</style>\n<table border=\"1\" class=\"dataframe\">\n  <thead>\n    <tr style=\"text-align: right;\">\n      <th></th>\n      <th>AtypicalDate</th>\n      <th>AtypicalDateCode</th>\n      <th>AtypicalDateName</th>\n      <th>TypeDay</th>\n      <th>XMCreationDate</th>\n      <th>date_tmp</th>\n      <th>day</th>\n      <th>month</th>\n      <th>year</th>\n    </tr>\n  </thead>\n  <tbody>\n    <tr>\n      <th>0</th>\n      <td>2000-01-01</td>\n      <td>1--ENE</td>\n      <td>Primero de enero</td>\n      <td>FEST</td>\n      <td>2020-02-04 18:31:22</td>\n      <td>2000-01-01</td>\n      <td>1</td>\n      <td>1</td>\n      <td>2000</td>\n    </tr>\n    <tr>\n      <th>1</th>\n      <td>2000-01-02</td>\n      <td>2--ENE</td>\n      <td>Dos de enero</td>\n      <td>ORD</td>\n      <td>2020-02-04 18:31:22</td>\n      <td>2000-01-02</td>\n      <td>2</td>\n      <td>1</td>\n      <td>2000</td>\n    </tr>\n    <tr>\n      <th>2</th>\n      <td>2000-01-03</td>\n      <td>LUNES</td>\n      <td>Lunes en vacaciones de enero</td>\n      <td>ORD</td>\n      <td>2020-02-04 18:31:22</td>\n      <td>2000-01-03</td>\n      <td>3</td>\n      <td>1</td>\n      <td>2000</td>\n    </tr>\n    <tr>\n      <th>3</th>\n      <td>2000-01-04</td>\n      <td>MARTES</td>\n      <td>Martes en vacaciones de enero</td>\n      <td>ORD</td>\n      <td>2020-02-04 18:31:22</td>\n      <td>2000-01-04</td>\n      <td>4</td>\n      <td>1</td>\n      <td>2000</td>\n    </tr>\n    <tr>\n      <th>4</th>\n      <td>2000-01-05</td>\n      <td>MIERCOLES</td>\n      <td>MiÃ©rcoles en vacaciones de enero</td>\n      <td>ORD</td>\n      <td>2020-02-04 18:31:22</td>\n      <td>2000-01-05</td>\n      <td>5</td>\n      <td>1</td>\n      <td>2000</td>\n    </tr>\n    <tr>\n      <th>...</th>\n      <td>...</td>\n      <td>...</td>\n      <td>...</td>\n      <td>...</td>\n      <td>...</td>\n      <td>...</td>\n      <td>...</td>\n      <td>...</td>\n      <td>...</td>\n    </tr>\n    <tr>\n      <th>18623</th>\n      <td>2050-12-27</td>\n      <td>MARTES</td>\n      <td>Martes en vacaciones de diciembre</td>\n      <td>ORD</td>\n      <td>2020-02-04 18:31:22</td>\n      <td>2050-12-27</td>\n      <td>27</td>\n      <td>12</td>\n      <td>2050</td>\n    </tr>\n    <tr>\n      <th>18624</th>\n      <td>2050-12-28</td>\n      <td>MIERCOLES</td>\n      <td>MiÃ©rcoles en vacaciones de diciembre</td>\n      <td>ORD</td>\n      <td>2020-02-04 18:31:22</td>\n      <td>2050-12-28</td>\n      <td>28</td>\n      <td>12</td>\n      <td>2050</td>\n    </tr>\n    <tr>\n      <th>18625</th>\n      <td>2050-12-29</td>\n      <td>JUEVES</td>\n      <td>Jueves en vacaciones de diciembre</td>\n      <td>ORD</td>\n      <td>2020-02-04 18:31:22</td>\n      <td>2050-12-29</td>\n      <td>29</td>\n      <td>12</td>\n      <td>2050</td>\n    </tr>\n    <tr>\n      <th>18626</th>\n      <td>2050-12-30</td>\n      <td>VIERNES</td>\n      <td>Viernes en vacaciones de diciembre</td>\n      <td>ORD</td>\n      <td>2020-02-04 18:31:22</td>\n      <td>2050-12-30</td>\n      <td>30</td>\n      <td>12</td>\n      <td>2050</td>\n    </tr>\n    <tr>\n      <th>18627</th>\n      <td>2050-12-31</td>\n      <td>31--DIC</td>\n      <td>Fiestas fin de aÃ±o</td>\n      <td>ORD</td>\n      <td>2020-02-04 18:31:22</td>\n      <td>2050-12-31</td>\n      <td>31</td>\n      <td>12</td>\n      <td>2050</td>\n    </tr>\n  </tbody>\n</table>\n<p>18628 rows × 9 columns</p>\n</div>"
     },
     "execution_count": 28,
     "metadata": {},
     "output_type": "execute_result"
    }
   ],
   "source": [
    "dias(df_calendar)\n",
    "df_calendar"
   ],
   "metadata": {
    "collapsed": false
   }
  },
  {
   "cell_type": "code",
   "execution_count": 29,
   "outputs": [],
   "source": [
    "@time_measure\n",
    "def rename():\n",
    "    df_calendar['AtypicalDateCode'] = df_calendar.AtypicalDateCode.str.lower()\n",
    "    df_calendar['AtypicalDateCode'] = df_calendar.AtypicalDateCode.str.replace('1--ene', 'ene_1')\n",
    "    df_calendar['AtypicalDateCode'] = df_calendar.AtypicalDateCode.str.replace('2--ene', 'ene_2')\n",
    "    df_calendar['AtypicalDateCode'] = df_calendar.AtypicalDateCode.str.replace('1--may', 'may_1')\n",
    "    df_calendar['AtypicalDateCode'] = df_calendar.AtypicalDateCode.str.replace('20--jul', 'jul_20')\n",
    "    df_calendar['AtypicalDateCode'] = df_calendar.AtypicalDateCode.str.replace('7--ago', 'ago_7')\n",
    "    df_calendar['AtypicalDateCode'] = df_calendar.AtypicalDateCode.str.replace('8--dic', 'dic_8')\n",
    "    df_calendar['AtypicalDateCode'] = df_calendar.AtypicalDateCode.str.replace('24--dic', 'dic_24')\n",
    "    df_calendar['AtypicalDateCode'] = df_calendar.AtypicalDateCode.str.replace('25--dic', 'dic_25')\n",
    "    df_calendar['AtypicalDateCode'] = df_calendar.AtypicalDateCode.str.replace('31--dic', 'dic_31')\n",
    "\n",
    "    return df_calendar"
   ],
   "metadata": {
    "collapsed": false
   }
  },
  {
   "cell_type": "code",
   "execution_count": 30,
   "outputs": [
    {
     "name": "stdout",
     "output_type": "stream",
     "text": [
      "0.054342031478881836\n"
     ]
    },
    {
     "data": {
      "text/plain": "      AtypicalDate AtypicalDateCode                       AtypicalDateName  \\\n0       2000-01-01            ene_1                       Primero de enero   \n1       2000-01-02            ene_2                           Dos de enero   \n2       2000-01-03            lunes           Lunes en vacaciones de enero   \n3       2000-01-04           martes          Martes en vacaciones de enero   \n4       2000-01-05        miercoles      MiÃ©rcoles en vacaciones de enero   \n...            ...              ...                                    ...   \n18623   2050-12-27           martes      Martes en vacaciones de diciembre   \n18624   2050-12-28        miercoles  MiÃ©rcoles en vacaciones de diciembre   \n18625   2050-12-29           jueves      Jueves en vacaciones de diciembre   \n18626   2050-12-30          viernes     Viernes en vacaciones de diciembre   \n18627   2050-12-31           dic_31                    Fiestas fin de aÃ±o   \n\n      TypeDay      XMCreationDate   date_tmp  day  month  year  \n0        FEST 2020-02-04 18:31:22 2000-01-01    1      1  2000  \n1         ORD 2020-02-04 18:31:22 2000-01-02    2      1  2000  \n2         ORD 2020-02-04 18:31:22 2000-01-03    3      1  2000  \n3         ORD 2020-02-04 18:31:22 2000-01-04    4      1  2000  \n4         ORD 2020-02-04 18:31:22 2000-01-05    5      1  2000  \n...       ...                 ...        ...  ...    ...   ...  \n18623     ORD 2020-02-04 18:31:22 2050-12-27   27     12  2050  \n18624     ORD 2020-02-04 18:31:22 2050-12-28   28     12  2050  \n18625     ORD 2020-02-04 18:31:22 2050-12-29   29     12  2050  \n18626     ORD 2020-02-04 18:31:22 2050-12-30   30     12  2050  \n18627     ORD 2020-02-04 18:31:22 2050-12-31   31     12  2050  \n\n[18628 rows x 9 columns]",
      "text/html": "<div>\n<style scoped>\n    .dataframe tbody tr th:only-of-type {\n        vertical-align: middle;\n    }\n\n    .dataframe tbody tr th {\n        vertical-align: top;\n    }\n\n    .dataframe thead th {\n        text-align: right;\n    }\n</style>\n<table border=\"1\" class=\"dataframe\">\n  <thead>\n    <tr style=\"text-align: right;\">\n      <th></th>\n      <th>AtypicalDate</th>\n      <th>AtypicalDateCode</th>\n      <th>AtypicalDateName</th>\n      <th>TypeDay</th>\n      <th>XMCreationDate</th>\n      <th>date_tmp</th>\n      <th>day</th>\n      <th>month</th>\n      <th>year</th>\n    </tr>\n  </thead>\n  <tbody>\n    <tr>\n      <th>0</th>\n      <td>2000-01-01</td>\n      <td>ene_1</td>\n      <td>Primero de enero</td>\n      <td>FEST</td>\n      <td>2020-02-04 18:31:22</td>\n      <td>2000-01-01</td>\n      <td>1</td>\n      <td>1</td>\n      <td>2000</td>\n    </tr>\n    <tr>\n      <th>1</th>\n      <td>2000-01-02</td>\n      <td>ene_2</td>\n      <td>Dos de enero</td>\n      <td>ORD</td>\n      <td>2020-02-04 18:31:22</td>\n      <td>2000-01-02</td>\n      <td>2</td>\n      <td>1</td>\n      <td>2000</td>\n    </tr>\n    <tr>\n      <th>2</th>\n      <td>2000-01-03</td>\n      <td>lunes</td>\n      <td>Lunes en vacaciones de enero</td>\n      <td>ORD</td>\n      <td>2020-02-04 18:31:22</td>\n      <td>2000-01-03</td>\n      <td>3</td>\n      <td>1</td>\n      <td>2000</td>\n    </tr>\n    <tr>\n      <th>3</th>\n      <td>2000-01-04</td>\n      <td>martes</td>\n      <td>Martes en vacaciones de enero</td>\n      <td>ORD</td>\n      <td>2020-02-04 18:31:22</td>\n      <td>2000-01-04</td>\n      <td>4</td>\n      <td>1</td>\n      <td>2000</td>\n    </tr>\n    <tr>\n      <th>4</th>\n      <td>2000-01-05</td>\n      <td>miercoles</td>\n      <td>MiÃ©rcoles en vacaciones de enero</td>\n      <td>ORD</td>\n      <td>2020-02-04 18:31:22</td>\n      <td>2000-01-05</td>\n      <td>5</td>\n      <td>1</td>\n      <td>2000</td>\n    </tr>\n    <tr>\n      <th>...</th>\n      <td>...</td>\n      <td>...</td>\n      <td>...</td>\n      <td>...</td>\n      <td>...</td>\n      <td>...</td>\n      <td>...</td>\n      <td>...</td>\n      <td>...</td>\n    </tr>\n    <tr>\n      <th>18623</th>\n      <td>2050-12-27</td>\n      <td>martes</td>\n      <td>Martes en vacaciones de diciembre</td>\n      <td>ORD</td>\n      <td>2020-02-04 18:31:22</td>\n      <td>2050-12-27</td>\n      <td>27</td>\n      <td>12</td>\n      <td>2050</td>\n    </tr>\n    <tr>\n      <th>18624</th>\n      <td>2050-12-28</td>\n      <td>miercoles</td>\n      <td>MiÃ©rcoles en vacaciones de diciembre</td>\n      <td>ORD</td>\n      <td>2020-02-04 18:31:22</td>\n      <td>2050-12-28</td>\n      <td>28</td>\n      <td>12</td>\n      <td>2050</td>\n    </tr>\n    <tr>\n      <th>18625</th>\n      <td>2050-12-29</td>\n      <td>jueves</td>\n      <td>Jueves en vacaciones de diciembre</td>\n      <td>ORD</td>\n      <td>2020-02-04 18:31:22</td>\n      <td>2050-12-29</td>\n      <td>29</td>\n      <td>12</td>\n      <td>2050</td>\n    </tr>\n    <tr>\n      <th>18626</th>\n      <td>2050-12-30</td>\n      <td>viernes</td>\n      <td>Viernes en vacaciones de diciembre</td>\n      <td>ORD</td>\n      <td>2020-02-04 18:31:22</td>\n      <td>2050-12-30</td>\n      <td>30</td>\n      <td>12</td>\n      <td>2050</td>\n    </tr>\n    <tr>\n      <th>18627</th>\n      <td>2050-12-31</td>\n      <td>dic_31</td>\n      <td>Fiestas fin de aÃ±o</td>\n      <td>ORD</td>\n      <td>2020-02-04 18:31:22</td>\n      <td>2050-12-31</td>\n      <td>31</td>\n      <td>12</td>\n      <td>2050</td>\n    </tr>\n  </tbody>\n</table>\n<p>18628 rows × 9 columns</p>\n</div>"
     },
     "execution_count": 30,
     "metadata": {},
     "output_type": "execute_result"
    }
   ],
   "source": [
    "rename()"
   ],
   "metadata": {
    "collapsed": false
   }
  },
  {
   "cell_type": "code",
   "execution_count": 31,
   "outputs": [],
   "source": [
    "list_date_code = df_calendar.AtypicalDateCode.unique()"
   ],
   "metadata": {
    "collapsed": false
   }
  },
  {
   "cell_type": "code",
   "execution_count": 32,
   "outputs": [
    {
     "data": {
      "text/plain": "array(['FEST', 'ORD', 'SAB'], dtype=object)"
     },
     "execution_count": 32,
     "metadata": {},
     "output_type": "execute_result"
    }
   ],
   "source": [
    "list_date_code_2 = [\n",
    "    'ene_1', 'ene_2', 'may_1', 'jul_20', 'ago_7', 'dic_8', 'dic_24', 'dic_25',\n",
    "    'dic_31', 'mss', 'jss', 'vss', 'sss', 'dss', 'lf'\n",
    "]\n",
    "\n",
    "list_type_day = df_calendar.TypeDay.unique()\n",
    "list_type_day"
   ],
   "metadata": {
    "collapsed": false
   }
  },
  {
   "cell_type": "code",
   "execution_count": 33,
   "outputs": [
    {
     "name": "stderr",
     "output_type": "stream",
     "text": [
      "/var/folders/sh/f6gkgjfs5lx3pkj9hkl44vgc0000gn/T/ipykernel_28700/715247001.py:10: UserWarning: pandas only supports SQLAlchemy connectable (engine/connection) or database string URI or sqlite3 DBAPI2 connection. Other DBAPI2 objects are not tested. Please consider using SQLAlchemy.\n",
      "  df = pd.read_sql(query, connection)\n"
     ]
    },
    {
     "name": "stdout",
     "output_type": "stream",
     "text": [
      "1.3967227935791016\n"
     ]
    },
    {
     "data": {
      "text/plain": "       InputMeasureMRID       MeasuringDate  MeasuringElementMRID  \\\n0            2012131573 2022-10-14 00:00:00                    32   \n1            2012123517 2022-10-14 00:05:00                    32   \n2            2012127789 2022-10-14 00:10:00                    32   \n3            2012130686 2022-10-14 00:15:00                    32   \n4            2012123745 2022-10-14 00:20:00                    32   \n...                 ...                 ...                   ...   \n34997        2697246316 2023-02-13 23:40:00                    32   \n34998        2697246506 2023-02-13 23:45:00                    32   \n34999        2697246758 2023-02-13 23:50:00                    32   \n35000        2697246918 2023-02-13 23:55:00                    32   \n35001        2697247215 2023-02-14 00:00:00                    32   \n\n      MeasuresTypeMRID  ProcessTypeMRID  OriginTimeSeriesMRID  Resolution  \\\n0                    P               20                    95           5   \n1                    P               20                    95           5   \n2                    P               20                    95           5   \n3                    P               20                    95           5   \n4                    P               20                    95           5   \n...                ...              ...                   ...         ...   \n34997                P               20                    95           5   \n34998                P               20                    95           5   \n34999                P               20                    95           5   \n35000                P               20                    95           5   \n35001                P               20                    95           5   \n\n       MeasuringValue          XMCreationDate  \n0             19.5929 2022-10-14 07:06:32.030  \n1             19.4979 2022-10-14 07:06:30.433  \n2             19.2128 2022-10-14 07:06:31.160  \n3             19.0133 2022-10-14 07:06:31.617  \n4             18.8612 2022-10-14 07:06:30.467  \n...               ...                     ...  \n34997         19.3838 2023-02-13 23:40:51.333  \n34998         18.8517 2023-02-13 23:45:52.667  \n34999         18.8517 2023-02-13 23:51:16.590  \n35000         18.8517 2023-02-13 23:55:52.640  \n35001         17.9395 2023-02-14 00:01:16.480  \n\n[35002 rows x 9 columns]",
      "text/html": "<div>\n<style scoped>\n    .dataframe tbody tr th:only-of-type {\n        vertical-align: middle;\n    }\n\n    .dataframe tbody tr th {\n        vertical-align: top;\n    }\n\n    .dataframe thead th {\n        text-align: right;\n    }\n</style>\n<table border=\"1\" class=\"dataframe\">\n  <thead>\n    <tr style=\"text-align: right;\">\n      <th></th>\n      <th>InputMeasureMRID</th>\n      <th>MeasuringDate</th>\n      <th>MeasuringElementMRID</th>\n      <th>MeasuresTypeMRID</th>\n      <th>ProcessTypeMRID</th>\n      <th>OriginTimeSeriesMRID</th>\n      <th>Resolution</th>\n      <th>MeasuringValue</th>\n      <th>XMCreationDate</th>\n    </tr>\n  </thead>\n  <tbody>\n    <tr>\n      <th>0</th>\n      <td>2012131573</td>\n      <td>2022-10-14 00:00:00</td>\n      <td>32</td>\n      <td>P</td>\n      <td>20</td>\n      <td>95</td>\n      <td>5</td>\n      <td>19.5929</td>\n      <td>2022-10-14 07:06:32.030</td>\n    </tr>\n    <tr>\n      <th>1</th>\n      <td>2012123517</td>\n      <td>2022-10-14 00:05:00</td>\n      <td>32</td>\n      <td>P</td>\n      <td>20</td>\n      <td>95</td>\n      <td>5</td>\n      <td>19.4979</td>\n      <td>2022-10-14 07:06:30.433</td>\n    </tr>\n    <tr>\n      <th>2</th>\n      <td>2012127789</td>\n      <td>2022-10-14 00:10:00</td>\n      <td>32</td>\n      <td>P</td>\n      <td>20</td>\n      <td>95</td>\n      <td>5</td>\n      <td>19.2128</td>\n      <td>2022-10-14 07:06:31.160</td>\n    </tr>\n    <tr>\n      <th>3</th>\n      <td>2012130686</td>\n      <td>2022-10-14 00:15:00</td>\n      <td>32</td>\n      <td>P</td>\n      <td>20</td>\n      <td>95</td>\n      <td>5</td>\n      <td>19.0133</td>\n      <td>2022-10-14 07:06:31.617</td>\n    </tr>\n    <tr>\n      <th>4</th>\n      <td>2012123745</td>\n      <td>2022-10-14 00:20:00</td>\n      <td>32</td>\n      <td>P</td>\n      <td>20</td>\n      <td>95</td>\n      <td>5</td>\n      <td>18.8612</td>\n      <td>2022-10-14 07:06:30.467</td>\n    </tr>\n    <tr>\n      <th>...</th>\n      <td>...</td>\n      <td>...</td>\n      <td>...</td>\n      <td>...</td>\n      <td>...</td>\n      <td>...</td>\n      <td>...</td>\n      <td>...</td>\n      <td>...</td>\n    </tr>\n    <tr>\n      <th>34997</th>\n      <td>2697246316</td>\n      <td>2023-02-13 23:40:00</td>\n      <td>32</td>\n      <td>P</td>\n      <td>20</td>\n      <td>95</td>\n      <td>5</td>\n      <td>19.3838</td>\n      <td>2023-02-13 23:40:51.333</td>\n    </tr>\n    <tr>\n      <th>34998</th>\n      <td>2697246506</td>\n      <td>2023-02-13 23:45:00</td>\n      <td>32</td>\n      <td>P</td>\n      <td>20</td>\n      <td>95</td>\n      <td>5</td>\n      <td>18.8517</td>\n      <td>2023-02-13 23:45:52.667</td>\n    </tr>\n    <tr>\n      <th>34999</th>\n      <td>2697246758</td>\n      <td>2023-02-13 23:50:00</td>\n      <td>32</td>\n      <td>P</td>\n      <td>20</td>\n      <td>95</td>\n      <td>5</td>\n      <td>18.8517</td>\n      <td>2023-02-13 23:51:16.590</td>\n    </tr>\n    <tr>\n      <th>35000</th>\n      <td>2697246918</td>\n      <td>2023-02-13 23:55:00</td>\n      <td>32</td>\n      <td>P</td>\n      <td>20</td>\n      <td>95</td>\n      <td>5</td>\n      <td>18.8517</td>\n      <td>2023-02-13 23:55:52.640</td>\n    </tr>\n    <tr>\n      <th>35001</th>\n      <td>2697247215</td>\n      <td>2023-02-14 00:00:00</td>\n      <td>32</td>\n      <td>P</td>\n      <td>20</td>\n      <td>95</td>\n      <td>5</td>\n      <td>17.9395</td>\n      <td>2023-02-14 00:01:16.480</td>\n    </tr>\n  </tbody>\n</table>\n<p>35002 rows × 9 columns</p>\n</div>"
     },
     "execution_count": 33,
     "metadata": {},
     "output_type": "execute_result"
    }
   ],
   "source": [
    "variable_type = 'P'\n",
    "measuring_element_id = 32\n",
    "connection_db = odbc_connection()\n",
    "query_get_measure = f\"EXEC [Forecast].[usp_GetInputMeasure] @MeasuringElementMRID = {measuring_element_id}, @MeasuresTypeMRID = {variable_type};\"\n",
    "\n",
    "read_sql_pandas(query_get_measure, connection_db)"
   ],
   "metadata": {
    "collapsed": false
   }
  },
  {
   "cell_type": "code",
   "execution_count": 34,
   "outputs": [
    {
     "name": "stdout",
     "output_type": "stream",
     "text": [
      "3.374099016189575\n"
     ]
    },
    {
     "data": {
      "text/plain": "       InputMeasureMRID       MeasuringDate  MeasuringElementMRID  \\\n0            2012131573 2022-10-14 00:00:00                    32   \n1            2012123517 2022-10-14 00:05:00                    32   \n2            2012127789 2022-10-14 00:10:00                    32   \n3            2012130686 2022-10-14 00:15:00                    32   \n4            2012123745 2022-10-14 00:20:00                    32   \n...                 ...                 ...                   ...   \n34997        2697246316 2023-02-13 23:40:00                    32   \n34998        2697246506 2023-02-13 23:45:00                    32   \n34999        2697246758 2023-02-13 23:50:00                    32   \n35000        2697246918 2023-02-13 23:55:00                    32   \n35001        2697247215 2023-02-14 00:00:00                    32   \n\n      MeasuresTypeMRID  ProcessTypeMRID  OriginTimeSeriesMRID  Resolution  \\\n0                    P               20                    95           5   \n1                    P               20                    95           5   \n2                    P               20                    95           5   \n3                    P               20                    95           5   \n4                    P               20                    95           5   \n...                ...              ...                   ...         ...   \n34997                P               20                    95           5   \n34998                P               20                    95           5   \n34999                P               20                    95           5   \n35000                P               20                    95           5   \n35001                P               20                    95           5   \n\n       MeasuringValue          XMCreationDate  \n0             19.5929 2022-10-14 07:06:32.030  \n1             19.4979 2022-10-14 07:06:30.433  \n2             19.2128 2022-10-14 07:06:31.160  \n3             19.0133 2022-10-14 07:06:31.617  \n4             18.8612 2022-10-14 07:06:30.467  \n...               ...                     ...  \n34997         19.3838 2023-02-13 23:40:51.333  \n34998         18.8517 2023-02-13 23:45:52.667  \n34999         18.8517 2023-02-13 23:51:16.590  \n35000         18.8517 2023-02-13 23:55:52.640  \n35001         17.9395 2023-02-14 00:01:16.480  \n\n[35002 rows x 9 columns]",
      "text/html": "<div>\n<style scoped>\n    .dataframe tbody tr th:only-of-type {\n        vertical-align: middle;\n    }\n\n    .dataframe tbody tr th {\n        vertical-align: top;\n    }\n\n    .dataframe thead th {\n        text-align: right;\n    }\n</style>\n<table border=\"1\" class=\"dataframe\">\n  <thead>\n    <tr style=\"text-align: right;\">\n      <th></th>\n      <th>InputMeasureMRID</th>\n      <th>MeasuringDate</th>\n      <th>MeasuringElementMRID</th>\n      <th>MeasuresTypeMRID</th>\n      <th>ProcessTypeMRID</th>\n      <th>OriginTimeSeriesMRID</th>\n      <th>Resolution</th>\n      <th>MeasuringValue</th>\n      <th>XMCreationDate</th>\n    </tr>\n  </thead>\n  <tbody>\n    <tr>\n      <th>0</th>\n      <td>2012131573</td>\n      <td>2022-10-14 00:00:00</td>\n      <td>32</td>\n      <td>P</td>\n      <td>20</td>\n      <td>95</td>\n      <td>5</td>\n      <td>19.5929</td>\n      <td>2022-10-14 07:06:32.030</td>\n    </tr>\n    <tr>\n      <th>1</th>\n      <td>2012123517</td>\n      <td>2022-10-14 00:05:00</td>\n      <td>32</td>\n      <td>P</td>\n      <td>20</td>\n      <td>95</td>\n      <td>5</td>\n      <td>19.4979</td>\n      <td>2022-10-14 07:06:30.433</td>\n    </tr>\n    <tr>\n      <th>2</th>\n      <td>2012127789</td>\n      <td>2022-10-14 00:10:00</td>\n      <td>32</td>\n      <td>P</td>\n      <td>20</td>\n      <td>95</td>\n      <td>5</td>\n      <td>19.2128</td>\n      <td>2022-10-14 07:06:31.160</td>\n    </tr>\n    <tr>\n      <th>3</th>\n      <td>2012130686</td>\n      <td>2022-10-14 00:15:00</td>\n      <td>32</td>\n      <td>P</td>\n      <td>20</td>\n      <td>95</td>\n      <td>5</td>\n      <td>19.0133</td>\n      <td>2022-10-14 07:06:31.617</td>\n    </tr>\n    <tr>\n      <th>4</th>\n      <td>2012123745</td>\n      <td>2022-10-14 00:20:00</td>\n      <td>32</td>\n      <td>P</td>\n      <td>20</td>\n      <td>95</td>\n      <td>5</td>\n      <td>18.8612</td>\n      <td>2022-10-14 07:06:30.467</td>\n    </tr>\n    <tr>\n      <th>...</th>\n      <td>...</td>\n      <td>...</td>\n      <td>...</td>\n      <td>...</td>\n      <td>...</td>\n      <td>...</td>\n      <td>...</td>\n      <td>...</td>\n      <td>...</td>\n    </tr>\n    <tr>\n      <th>34997</th>\n      <td>2697246316</td>\n      <td>2023-02-13 23:40:00</td>\n      <td>32</td>\n      <td>P</td>\n      <td>20</td>\n      <td>95</td>\n      <td>5</td>\n      <td>19.3838</td>\n      <td>2023-02-13 23:40:51.333</td>\n    </tr>\n    <tr>\n      <th>34998</th>\n      <td>2697246506</td>\n      <td>2023-02-13 23:45:00</td>\n      <td>32</td>\n      <td>P</td>\n      <td>20</td>\n      <td>95</td>\n      <td>5</td>\n      <td>18.8517</td>\n      <td>2023-02-13 23:45:52.667</td>\n    </tr>\n    <tr>\n      <th>34999</th>\n      <td>2697246758</td>\n      <td>2023-02-13 23:50:00</td>\n      <td>32</td>\n      <td>P</td>\n      <td>20</td>\n      <td>95</td>\n      <td>5</td>\n      <td>18.8517</td>\n      <td>2023-02-13 23:51:16.590</td>\n    </tr>\n    <tr>\n      <th>35000</th>\n      <td>2697246918</td>\n      <td>2023-02-13 23:55:00</td>\n      <td>32</td>\n      <td>P</td>\n      <td>20</td>\n      <td>95</td>\n      <td>5</td>\n      <td>18.8517</td>\n      <td>2023-02-13 23:55:52.640</td>\n    </tr>\n    <tr>\n      <th>35001</th>\n      <td>2697247215</td>\n      <td>2023-02-14 00:00:00</td>\n      <td>32</td>\n      <td>P</td>\n      <td>20</td>\n      <td>95</td>\n      <td>5</td>\n      <td>17.9395</td>\n      <td>2023-02-14 00:01:16.480</td>\n    </tr>\n  </tbody>\n</table>\n<p>35002 rows × 9 columns</p>\n</div>"
     },
     "execution_count": 34,
     "metadata": {},
     "output_type": "execute_result"
    }
   ],
   "source": [
    "url_db = odbc_url_sqlalchemy()\n",
    "read_sql_sqlalchemy(query_get_measure, url_db)"
   ],
   "metadata": {
    "collapsed": false
   }
  }
 ],
 "metadata": {
  "kernelspec": {
   "display_name": "Python 3",
   "language": "python",
   "name": "python3"
  },
  "language_info": {
   "codemirror_mode": {
    "name": "ipython",
    "version": 2
   },
   "file_extension": ".py",
   "mimetype": "text/x-python",
   "name": "python",
   "nbconvert_exporter": "python",
   "pygments_lexer": "ipython2",
   "version": "2.7.6"
  }
 },
 "nbformat": 4,
 "nbformat_minor": 0
}
